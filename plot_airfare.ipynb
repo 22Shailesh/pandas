{
 "cells": [
  {
   "cell_type": "code",
   "execution_count": 4,
   "metadata": {},
   "outputs": [],
   "source": [
    "%matplotlib inline"
   ]
  },
  {
   "cell_type": "markdown",
   "metadata": {},
   "source": [
    "\n",
    "Air fares before and after 9/11\n",
    "=====================================\n",
    "\n",
    "This is a business-intelligence (BI) like application.\n",
    "\n",
    "What is interesting here is that we may want to study fares as a function\n",
    "of the year, paired accordingly to the trips, or forgetting the year,\n",
    "only as a function of the trip endpoints.\n",
    "\n",
    "Using statsmodels' linear models, we find that both with an OLS (ordinary\n",
    "least square) and a robust fit, the intercept and the slope are\n",
    "significantly non-zero: the air fares have decreased between 2000 and\n",
    "2001, and their dependence on distance travelled has also decreased\n",
    "\n",
    "\n"
   ]
  },
  {
   "cell_type": "code",
   "execution_count": 5,
   "metadata": {},
   "outputs": [],
   "source": [
    "# Standard library imports\n",
    "import urllib\n",
    "import os"
   ]
  },
  {
   "cell_type": "markdown",
   "metadata": {},
   "source": [
    "Load the data\n",
    "\n"
   ]
  },
  {
   "cell_type": "code",
   "execution_count": 6,
   "metadata": {},
   "outputs": [
    {
     "ename": "AttributeError",
     "evalue": "module 'urllib' has no attribute 'urlretrieve'",
     "output_type": "error",
     "traceback": [
      "\u001b[1;31m---------------------------------------------------------------------------\u001b[0m",
      "\u001b[1;31mAttributeError\u001b[0m                            Traceback (most recent call last)",
      "\u001b[1;32m<ipython-input-6-7b2310f4ec44>\u001b[0m in \u001b[0;36m<module>\u001b[1;34m\u001b[0m\n\u001b[0;32m      3\u001b[0m \u001b[1;32mif\u001b[0m \u001b[1;32mnot\u001b[0m \u001b[0mos\u001b[0m\u001b[1;33m.\u001b[0m\u001b[0mpath\u001b[0m\u001b[1;33m.\u001b[0m\u001b[0mexists\u001b[0m\u001b[1;33m(\u001b[0m\u001b[1;34m'airfares.txt'\u001b[0m\u001b[1;33m)\u001b[0m\u001b[1;33m:\u001b[0m\u001b[1;33m\u001b[0m\u001b[1;33m\u001b[0m\u001b[0m\n\u001b[0;32m      4\u001b[0m     \u001b[1;31m# Download the file if it is not present\u001b[0m\u001b[1;33m\u001b[0m\u001b[1;33m\u001b[0m\u001b[1;33m\u001b[0m\u001b[0m\n\u001b[1;32m----> 5\u001b[1;33m     urllib.urlretrieve(\n\u001b[0m\u001b[0;32m      6\u001b[0m         \u001b[1;34m'http://www.stat.ufl.edu/~winner/data/airq4.dat'\u001b[0m\u001b[1;33m,\u001b[0m\u001b[1;33m\u001b[0m\u001b[1;33m\u001b[0m\u001b[0m\n\u001b[0;32m      7\u001b[0m                        'airfares.txt')\n",
      "\u001b[1;31mAttributeError\u001b[0m: module 'urllib' has no attribute 'urlretrieve'"
     ]
    }
   ],
   "source": [
    "import pandas\n",
    "\n",
    "if not os.path.exists('airfares.txt'):\n",
    "    # Download the file if it is not present\n",
    "    urllib.urlretrieve(\n",
    "        'http://www.stat.ufl.edu/~winner/data/airq4.dat',\n",
    "                       'airfares.txt')\n",
    "\n",
    "# As a seperator, ' +' is a regular expression that means 'one of more\n",
    "# space'\n",
    "data = pandas.read_csv('airfares.txt', sep=' +', header=0,\n",
    "                       names=['city1', 'city2', 'pop1', 'pop2',\n",
    "                              'dist', 'fare_2000', 'nb_passengers_2000',\n",
    "                              'fare_2001', 'nb_passengers_2001'])\n",
    "\n",
    "# we log-transform the number of passengers\n",
    "import numpy as np\n",
    "data['nb_passengers_2000'] = np.log10(data['nb_passengers_2000'])\n",
    "data['nb_passengers_2001'] = np.log10(data['nb_passengers_2001'])"
   ]
  },
  {
   "cell_type": "markdown",
   "metadata": {},
   "source": [
    "Make a dataframe whith the year as an attribute, instead of separate columns\n",
    "\n"
   ]
  },
  {
   "cell_type": "code",
   "execution_count": 7,
   "metadata": {},
   "outputs": [
    {
     "ename": "NameError",
     "evalue": "name 'data' is not defined",
     "output_type": "error",
     "traceback": [
      "\u001b[1;31m---------------------------------------------------------------------------\u001b[0m",
      "\u001b[1;31mNameError\u001b[0m                                 Traceback (most recent call last)",
      "\u001b[1;32m<ipython-input-7-45145b80204e>\u001b[0m in \u001b[0;36m<module>\u001b[1;34m\u001b[0m\n\u001b[0;32m      3\u001b[0m \u001b[1;33m\u001b[0m\u001b[0m\n\u001b[0;32m      4\u001b[0m \u001b[1;31m# Make an index of each flight\u001b[0m\u001b[1;33m\u001b[0m\u001b[1;33m\u001b[0m\u001b[1;33m\u001b[0m\u001b[0m\n\u001b[1;32m----> 5\u001b[1;33m \u001b[0mdata_flat\u001b[0m \u001b[1;33m=\u001b[0m \u001b[0mdata\u001b[0m\u001b[1;33m.\u001b[0m\u001b[0mreset_index\u001b[0m\u001b[1;33m(\u001b[0m\u001b[1;33m)\u001b[0m\u001b[1;33m\u001b[0m\u001b[1;33m\u001b[0m\u001b[0m\n\u001b[0m\u001b[0;32m      6\u001b[0m \u001b[1;33m\u001b[0m\u001b[0m\n\u001b[0;32m      7\u001b[0m data_2000 = data_flat[['city1', 'city2', 'pop1', 'pop2',\n",
      "\u001b[1;31mNameError\u001b[0m: name 'data' is not defined"
     ]
    }
   ],
   "source": [
    "# This involves a small danse in which we separate the dataframes in 2,\n",
    "# one for year 2000, and one for 2001, before concatenating again.\n",
    "\n",
    "# Make an index of each flight\n",
    "data_flat = data.reset_index()\n",
    "\n",
    "data_2000 = data_flat[['city1', 'city2', 'pop1', 'pop2',\n",
    "                       'dist', 'fare_2000', 'nb_passengers_2000']]\n",
    "# Rename the columns\n",
    "data_2000.columns = ['city1', 'city2', 'pop1', 'pop2', 'dist', 'fare',\n",
    "                     'nb_passengers']\n",
    "# Add a column with the year\n",
    "data_2000['year'] = 2000\n",
    "\n",
    "data_2001 = data_flat[['city1', 'city2', 'pop1', 'pop2',\n",
    "                       'dist', 'fare_2001', 'nb_passengers_2001']]\n",
    "# Rename the columns\n",
    "data_2001.columns = ['city1', 'city2', 'pop1', 'pop2', 'dist', 'fare',\n",
    "                     'nb_passengers']\n",
    "# Add a column with the year\n",
    "data_2001['year'] = 2001\n",
    "\n",
    "data_flat = pandas.concat([data_2000, data_2001])"
   ]
  },
  {
   "cell_type": "markdown",
   "metadata": {},
   "source": [
    "Plot scatter matrices highlighting different aspects\n",
    "\n"
   ]
  },
  {
   "cell_type": "code",
   "execution_count": 8,
   "metadata": {},
   "outputs": [
    {
     "ename": "NameError",
     "evalue": "name 'data_flat' is not defined",
     "output_type": "error",
     "traceback": [
      "\u001b[1;31m---------------------------------------------------------------------------\u001b[0m",
      "\u001b[1;31mNameError\u001b[0m                                 Traceback (most recent call last)",
      "\u001b[1;32m<ipython-input-8-72414e9b6664>\u001b[0m in \u001b[0;36m<module>\u001b[1;34m\u001b[0m\n\u001b[0;32m      1\u001b[0m \u001b[1;32mimport\u001b[0m \u001b[0mseaborn\u001b[0m\u001b[1;33m\u001b[0m\u001b[1;33m\u001b[0m\u001b[0m\n\u001b[1;32m----> 2\u001b[1;33m seaborn.pairplot(data_flat, vars=['fare', 'dist', 'nb_passengers'],\n\u001b[0m\u001b[0;32m      3\u001b[0m                  kind='reg', markers='.')\n\u001b[0;32m      4\u001b[0m \u001b[1;33m\u001b[0m\u001b[0m\n\u001b[0;32m      5\u001b[0m \u001b[1;31m# A second plot, to show the effect of the year (ie the 9/11 effect)\u001b[0m\u001b[1;33m\u001b[0m\u001b[1;33m\u001b[0m\u001b[1;33m\u001b[0m\u001b[0m\n",
      "\u001b[1;31mNameError\u001b[0m: name 'data_flat' is not defined"
     ]
    }
   ],
   "source": [
    "import seaborn\n",
    "seaborn.pairplot(data_flat, vars=['fare', 'dist', 'nb_passengers'],\n",
    "                 kind='reg', markers='.')\n",
    "\n",
    "# A second plot, to show the effect of the year (ie the 9/11 effect)\n",
    "seaborn.pairplot(data_flat, vars=['fare', 'dist', 'nb_passengers'],\n",
    "                 kind='reg', hue='year', markers='.')"
   ]
  },
  {
   "cell_type": "markdown",
   "metadata": {},
   "source": [
    "Plot the difference in fare\n",
    "\n"
   ]
  },
  {
   "cell_type": "code",
   "execution_count": null,
   "metadata": {},
   "outputs": [],
   "source": [
    "import matplotlib.pyplot as plt\n",
    "\n",
    "plt.figure(figsize=(5, 2))\n",
    "seaborn.boxplot(data.fare_2001 - data.fare_2000)\n",
    "plt.title('Fare: 2001 - 2000')\n",
    "plt.subplots_adjust()\n",
    "\n",
    "plt.figure(figsize=(5, 2))\n",
    "seaborn.boxplot(data.nb_passengers_2001 - data.nb_passengers_2000)\n",
    "plt.title('NB passengers: 2001 - 2000')\n",
    "plt.subplots_adjust()"
   ]
  },
  {
   "cell_type": "markdown",
   "metadata": {},
   "source": [
    "Statistical testing: dependence of fare on distance and number of\n",
    "passengers\n",
    "\n"
   ]
  },
  {
   "cell_type": "code",
   "execution_count": null,
   "metadata": {},
   "outputs": [],
   "source": [
    "import statsmodels.formula.api as sm\n",
    "\n",
    "result = sm.ols(formula='fare ~ 1 + dist + nb_passengers', data=data_flat).fit()\n",
    "print(result.summary())\n",
    "\n",
    "# Using a robust fit\n",
    "result = sm.rlm(formula='fare ~ 1 + dist + nb_passengers', data=data_flat).fit()\n",
    "print(result.summary())"
   ]
  },
  {
   "cell_type": "markdown",
   "metadata": {},
   "source": [
    "Statistical testing: regression of fare on distance: 2001/2000 difference\n",
    "\n"
   ]
  },
  {
   "cell_type": "code",
   "execution_count": null,
   "metadata": {},
   "outputs": [],
   "source": [
    "result = sm.ols(formula='fare_2001 - fare_2000 ~ 1 + dist', data=data).fit()\n",
    "print(result.summary())\n",
    "\n",
    "# Plot the corresponding regression\n",
    "data['fare_difference'] = data['fare_2001'] - data['fare_2000']\n",
    "seaborn.lmplot(x='dist', y='fare_difference', data=data)\n",
    "\n",
    "plt.show()"
   ]
  },
  {
   "cell_type": "code",
   "execution_count": null,
   "metadata": {},
   "outputs": [],
   "source": []
  },
  {
   "cell_type": "code",
   "execution_count": null,
   "metadata": {},
   "outputs": [],
   "source": []
  },
  {
   "cell_type": "code",
   "execution_count": null,
   "metadata": {},
   "outputs": [],
   "source": []
  },
  {
   "cell_type": "code",
   "execution_count": null,
   "metadata": {},
   "outputs": [],
   "source": []
  },
  {
   "cell_type": "code",
   "execution_count": null,
   "metadata": {},
   "outputs": [],
   "source": []
  }
 ],
 "metadata": {
  "kernelspec": {
   "display_name": "Python 3",
   "language": "python",
   "name": "python3"
  }
 },
 "nbformat": 4,
 "nbformat_minor": 1
}
